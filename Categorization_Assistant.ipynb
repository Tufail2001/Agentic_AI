{
  "nbformat": 4,
  "nbformat_minor": 0,
  "metadata": {
    "colab": {
      "provenance": []
    },
    "kernelspec": {
      "name": "python3",
      "display_name": "Python 3"
    },
    "language_info": {
      "name": "python"
    }
  },
  "cells": [
    {
      "cell_type": "markdown",
      "source": [
        "Key Components:\n",
        "1.\tState Management: Using TypedDict define and manage state of each customer\n",
        "2.\tQuery Categorization: Classify customers queries into Technical, Billing and General categories\n",
        "3.\tSentiment Analysis: Determine the emotion of customers queries\n",
        "4.\tResponse Generation: Create appropriate response on the basis of query category and sentiment\n",
        "5.\tEscalation Mechanism: Automatically escalation negative queries with negative sentiment to human agents\n",
        "6.\t Workflow Graph: Utilizing LangGraph to create a flexible and extensible workflow  \n",
        "\n",
        "Method Detailing:\n",
        "1.\tInitialization: Set up the environment and important libraries\n",
        "2.\tState Definition: Create a structure to hold query information, category, sentiment, and response\n",
        "3.\tNode Function: Implement separate Function for categorization, sentiment Analysis and response generation\n",
        "4.\tGraph Construction: Use state Graph to define the workflow, adding nodes and edges to represent the support process\n",
        "5.\tConditional Routing: Implement logic to route the queries based on their category and sentiment\n",
        "6.\tWorkflow Compilation: Compile the graph into an executable application\n",
        "7.\tExecution: Process customer queries through the workflow and retrieve results  \n"
      ],
      "metadata": {
        "id": "YclhLdHFUr8l"
      }
    },
    {
      "cell_type": "code",
      "source": [
        "# important libraries\n",
        "%pip install --quiet -U langchain_google_genai langchain_core langgraph"
      ],
      "metadata": {
        "id": "IVrgkv-GptdU",
        "colab": {
          "base_uri": "https://localhost:8080/"
        },
        "outputId": "e7ae96af-3bc6-4f62-c236-af8a365735fa"
      },
      "execution_count": 1,
      "outputs": [
        {
          "output_type": "stream",
          "name": "stdout",
          "text": [
            "\u001b[?25l   \u001b[90m━━━━━━━━━━━━━━━━━━━━━━━━━━━━━━━━━━━━━━━━\u001b[0m \u001b[32m0.0/41.5 kB\u001b[0m \u001b[31m?\u001b[0m eta \u001b[36m-:--:--\u001b[0m\r\u001b[2K   \u001b[90m━━━━━━━━━━━━━━━━━━━━━━━━━━━━━━━━━━━━━━━━\u001b[0m \u001b[32m41.5/41.5 kB\u001b[0m \u001b[31m1.6 MB/s\u001b[0m eta \u001b[36m0:00:00\u001b[0m\n",
            "\u001b[2K   \u001b[90m━━━━━━━━━━━━━━━━━━━━━━━━━━━━━━━━━━━━━━━━\u001b[0m \u001b[32m137.2/137.2 kB\u001b[0m \u001b[31m2.7 MB/s\u001b[0m eta \u001b[36m0:00:00\u001b[0m\n",
            "\u001b[2K   \u001b[90m━━━━━━━━━━━━━━━━━━━━━━━━━━━━━━━━━━━━━━━━\u001b[0m \u001b[32m44.7/44.7 kB\u001b[0m \u001b[31m979.0 kB/s\u001b[0m eta \u001b[36m0:00:00\u001b[0m\n",
            "\u001b[?25h"
          ]
        }
      ]
    },
    {
      "cell_type": "code",
      "source": [
        "# set google api key\n",
        "from google.colab import userdata\n",
        "GEMINI_API_KEY = userdata.get('GEMINI_API_KEY')"
      ],
      "metadata": {
        "id": "v8h3poytp3QB"
      },
      "execution_count": 2,
      "outputs": []
    },
    {
      "cell_type": "code",
      "source": [
        "from typing import TypedDict, Dict\n",
        "from langchain_core.messages import AIMessage, HumanMessage, SystemMessage\n",
        "from langgraph.graph import StateGraph, START, END\n",
        "from IPython.display import Image, display\n",
        "from langchain_core.prompts import ChatPromptTemplate\n",
        "from langgraph.graph.state import CompiledStateGraph\n"
      ],
      "metadata": {
        "id": "8FgIIZHFr1US"
      },
      "execution_count": 13,
      "outputs": []
    },
    {
      "cell_type": "code",
      "source": [
        "#state and schema setting\n",
        "from langchain_google_genai import ChatGoogleGenerativeAI\n",
        "class State(TypedDict):\n",
        "    query: str\n",
        "    category: str\n",
        "    sentiment: str\n",
        "    response: str"
      ],
      "metadata": {
        "id": "EIyCVnnMrjlU"
      },
      "execution_count": 14,
      "outputs": []
    },
    {
      "cell_type": "code",
      "source": [
        "#chat model configure\n",
        "llm = ChatGoogleGenerativeAI(model=\"gemini-1.5-flash\", api_key = GEMINI_API_KEY)\n"
      ],
      "metadata": {
        "id": "1oynmCj5rk3l"
      },
      "execution_count": 15,
      "outputs": []
    },
    {
      "cell_type": "code",
      "source": [
        "## Define Nodes\n",
        "def categorize(state: State) -> State:\n",
        "    \"Techanical, Billing, General\"\n",
        "    prompt = ChatPromptTemplate.from_template(\n",
        "        \"Categorize the following customer's quiery into one of the category : \"\n",
        "        \"Techanical, Billing, General. Query: {query} \"\n",
        "    )\n",
        "    chain = prompt | llm\n",
        "    category = chain.invoke({\"query\": state['query']}).content\n",
        "    return {\"category\" : category}\n",
        "\n",
        "def analyze_sentiment(state: State) -> State:\n",
        "    prompt = ChatPromptTemplate.from_template(\n",
        "        \"Analyze the sentimetn of the following customer queties\"\n",
        "        \"Response with either 'Positive','Neutral' or 'Negative'query: {query}\"\n",
        "    )\n",
        "    chain = prompt | llm\n",
        "    sentiment = chain.invoke({\"query\": state['query']}).content\n",
        "    return {\"sentiment\" : sentiment}\n",
        "\n",
        "def handle_techanical(state: State) -> State:\n",
        "    prompt = ChatPromptTemplate.from_template(\n",
        "        \"Provide techanical support response to the following query : {query}\"\n",
        "    )\n",
        "    chain = prompt | llm\n",
        "    response = chain.invoke({\"query\": state['query']}).content\n",
        "    return {\"response\" : response}\n",
        "\n",
        "def handle_billing(state: State) -> State:\n",
        "    prompt = ChatPromptTemplate.from_template(\n",
        "        \"Provide billing support response to the following query : {query}\"\n",
        "    )\n",
        "    chain = prompt | llm\n",
        "    response = chain.invoke({\"query\": state['query']}).content\n",
        "    return {\"response\" : response}\n",
        "\n",
        "def handle_general(state: State) -> State:\n",
        "    prompt = ChatPromptTemplate.from_template(\n",
        "        \"Provide general support response to the following query : {query}\"\n",
        "    )\n",
        "    chain = prompt | llm\n",
        "    response = chain.invoke({\"query\": state['query']}).content\n",
        "    return {\"response\" : response}\n",
        "\n",
        "\n",
        "def escalate(state: State) -> State:\n",
        "    return {\"response\" : \"this query has been escalated to a human agent due to its negative sentiment\"}\n",
        "\n",
        "\n",
        "def route_query(state: State) -> State:\n",
        "    if state['sentiment'] == 'Negative':\n",
        "        return \"escalate\"\n",
        "    elif state['category'] == 'Techanical':\n",
        "        return 'handle_techanical'\n",
        "    elif state['category'] == 'Billing':\n",
        "        return 'handle_billing'\n",
        "    else:\n",
        "        'handle_general'"
      ],
      "metadata": {
        "id": "P1rr34sxsNmc"
      },
      "execution_count": 16,
      "outputs": []
    },
    {
      "cell_type": "code",
      "source": [
        "# nodes and edges\n",
        "workflow = StateGraph(State)\n",
        "\n",
        "workflow.add_node(\"categorize\", categorize)\n",
        "workflow.add_node(\"analyze_sentiment\", analyze_sentiment)\n",
        "workflow.add_node(\"handle_techanical\", handle_techanical)\n",
        "workflow.add_node(\"handle_billing\", handle_billing)\n",
        "workflow.add_node(\"handle_general\", handle_general)\n",
        "workflow.add_node(\"escalate\", escalate)\n",
        "\n",
        "workflow.add_edge(\"categorize\", \"analyze_sentiment\")\n",
        "\n",
        "workflow.add_conditional_edges(\n",
        "    \"analyze_sentiment\",route_query\n",
        ")\n",
        "\n",
        "workflow.add_edge(\"handle_techanical\", END)\n",
        "workflow.add_edge(\"handle_billing\", END)\n",
        "workflow.add_edge(\"handle_general\", END)\n",
        "workflow.add_edge(\"escalate\", END)\n",
        "\n",
        "workflow.set_entry_point(\"categorize\")\n",
        "\n",
        "\n",
        "graph = workflow.compile()"
      ],
      "metadata": {
        "id": "yxLzqOTAyn2y"
      },
      "execution_count": 17,
      "outputs": []
    },
    {
      "cell_type": "code",
      "source": [
        "display(Image(graph.get_graph().draw_mermaid_png()))"
      ],
      "metadata": {
        "colab": {
          "base_uri": "https://localhost:8080/",
          "height": 449
        },
        "id": "R7vcFGNYZYhj",
        "outputId": "6cc5e739-9aa0-47d5-d4af-2995e992dbff"
      },
      "execution_count": 30,
      "outputs": [
        {
          "output_type": "display_data",
          "data": {
            "image/png": "[encoded data removed]",
            "text/plain": [
              "<IPython.core.display.Image object>"
            ]
          },
          "metadata": {}
        }
      ]
    },
    {
      "cell_type": "code",
      "source": [
        "def run_customer_support(query: str) -> Dict[str, str]:\n",
        "    \"\"\"Process a customer query through the LangGraph workflow.\n",
        "\n",
        "    Args:\n",
        "        query (str): The customer's query\n",
        "\n",
        "    Returns:\n",
        "        Dict[str, str]: A dictionary containing the query's category, sentiment, and response\n",
        "    \"\"\"\n",
        "    results = graph.invoke({\"query\": query})\n",
        "    return {\n",
        "        \"category\": results[\"category\"],\n",
        "        \"sentiment\": results[\"sentiment\"],\n",
        "        \"response\": results[\"response\"]\n",
        "    }"
      ],
      "metadata": {
        "id": "5McWeuUgSRzX"
      },
      "execution_count": 26,
      "outputs": []
    },
    {
      "cell_type": "markdown",
      "source": [
        "Test the Customer Support Agent"
      ],
      "metadata": {
        "id": "FiJTUNDPUFQh"
      }
    },
    {
      "cell_type": "code",
      "source": [
        "# escalate\n",
        "\n",
        "query = \"My internet connection keeps dropping. Can you help?\"\n",
        "result = run_customer_support(query)\n",
        "print(f\"Query: {query}\")\n",
        "print(f\"Category: {result['category']}\")\n",
        "print(f\"Sentiment: {result['sentiment']}\")\n",
        "print(f\"Response: {result['response']}\")\n",
        "print(\"\\n\")\n"
      ],
      "metadata": {
        "colab": {
          "base_uri": "https://localhost:8080/"
        },
        "id": "boo30sVhTupr",
        "outputId": "72e35916-366c-4eea-e39c-2a1c0c275097"
      },
      "execution_count": 22,
      "outputs": [
        {
          "output_type": "stream",
          "name": "stdout",
          "text": [
            "Query: My internet connection keeps dropping. Can you help?\n",
            "Category: Technical\n",
            "Sentiment: Negative\n",
            "Response: this query has been escalated to a human agent due to its negative sentiment\n",
            "\n",
            "\n"
          ]
        }
      ]
    },
    {
      "cell_type": "code",
      "source": [
        "# handle_billing\n",
        "\n",
        "query = \"where can i find my receipt?\"\n",
        "result = run_customer_support(query)\n",
        "print(f\"Query: {query}\")\n",
        "print(f\"Category: {result['category']}\")\n",
        "print(f\"Sentiment: {result['sentiment']}\")\n",
        "print(f\"Response: {result['response']}\")\n",
        "print(\"\\n\")\n",
        "\n"
      ],
      "metadata": {
        "colab": {
          "base_uri": "https://localhost:8080/"
        },
        "id": "r4mnhlvGUYJz",
        "outputId": "bb150f01-41c0-44a7-c782-b1738d07375e"
      },
      "execution_count": 28,
      "outputs": [
        {
          "output_type": "stream",
          "name": "stdout",
          "text": [
            "Query: where can i find my receipt?\n",
            "Category: Billing\n",
            "Sentiment: Neutral\n",
            "Response: Several options exist for finding your receipt, depending on how you paid and when the purchase was made.  Please tell me:\n",
            "\n",
            "* **How did you pay?** (e.g., credit card, debit card, PayPal, check, cash)\n",
            "* **Approximately when was the purchase made?** (e.g., date or month)\n",
            "* **What was the purchase for?** (This helps us narrow down the search if you have multiple invoices.)\n",
            "\n",
            "Once I have this information, I can guide you to the correct location for your receipt, which may include:\n",
            "\n",
            "* **Your email inbox:** Check your inbox for an email from us containing your receipt.  Please check your spam or junk folder as well.\n",
            "* **Your online account:** If you have an account with us, you can usually view and download your receipts from your account history.\n",
            "* **Our website:** You may be able to access your receipts through our website's order history section. (Provide a link if applicable)\n",
            "* **Your physical mail:** If you requested a paper receipt, please check your mailbox.\n",
            "\n",
            "\n",
            "We'll do our best to help you locate your receipt quickly.\n",
            "\n",
            "\n"
          ]
        }
      ]
    }
  ]
}