{
  "nbformat": 4,
  "nbformat_minor": 0,
  "metadata": {
    "colab": {
      "provenance": [],
      "name": "Lawyer_Assistant.ipynb"
    },
    "kernelspec": {
      "name": "python3",
      "display_name": "Python 3"
    },
    "language_info": {
      "name": "python"
    }
  },
  "cells": [
    {
      "cell_type": "markdown",
      "source": [
        "Doctor Chatbot **Assistant**\n"
      ],
      "metadata": {
        "id": "I7l2k6QRhvnG"
      }
    },
    {
      "cell_type": "markdown",
      "source": [],
      "metadata": {
        "id": "lKcSi-g2l3Jp"
      }
    },
    {
      "cell_type": "code",
      "source": [
        "# Lawyer Assistant (\"Aim to help in Court's cases help\")"
      ],
      "metadata": {
        "id": "rGuRq8T1l4Vz"
      },
      "execution_count": null,
      "outputs": []
    },
    {
      "cell_type": "code",
      "source": [
        "# install SDK\n",
        "%pip install --quiet -U langchain_google_genai langchain_core langgraph"
      ],
      "metadata": {
        "id": "hLjcNgnUmifF"
      },
      "execution_count": 2,
      "outputs": []
    },
    {
      "cell_type": "code",
      "source": [
        "# google api key\n",
        "from google.colab import userdata\n",
        "GEMINI_API_KEY = userdata.get('GEMINI_API_KEY')"
      ],
      "metadata": {
        "id": "gO62XykYh4uX"
      },
      "execution_count": 3,
      "outputs": []
    },
    {
      "cell_type": "code",
      "source": [
        "# import chatmodel\n",
        "from langchain_google_genai import ChatGoogleGenerativeAI\n",
        "\n",
        "llm = ChatGoogleGenerativeAI(\n",
        "    model = \"gemini-1.5-flash\",\n",
        "    api_key=GEMINI_API_KEY,\n",
        "    temperature=0,\n",
        ")"
      ],
      "metadata": {
        "id": "5JtSEhQyiKrR"
      },
      "execution_count": 4,
      "outputs": []
    },
    {
      "cell_type": "code",
      "source": [
        "# A testing of  chatmodel\n",
        "response=llm.invoke(\"What is Pakistan Act 1973\")\n",
        "print(response)"
      ],
      "metadata": {
        "colab": {
          "base_uri": "https://localhost:8080/"
        },
        "id": "A5nq2d7wicX6",
        "outputId": "d81d5d46-0235-4d0e-93ab-07cfcb5db024"
      },
      "execution_count": 5,
      "outputs": [
        {
          "output_type": "stream",
          "name": "stdout",
          "text": [
            "content=\"The Pakistan Act, 1973, is the **constitution of Pakistan**.  It's the supreme law of the land, outlining the structure of the government, the fundamental rights of citizens, and the relationship between the different branches of government.  It replaced previous constitutions and established Pakistan as an Islamic Republic.  Key features include:\\n\\n* **Federal Parliamentary System:**  It establishes a federal parliamentary system with a President as head of state and a Prime Minister as head of government.\\n* **Islamic Provisions:**  The constitution incorporates Islamic principles and designates Islam as the state religion.  However, it also guarantees religious freedom to minorities.\\n* **Fundamental Rights:**  It guarantees fundamental rights to citizens, including freedom of speech, religion, and assembly, along with the right to education and equality before the law.\\n* **Separation of Powers (to an extent):** While aiming for a separation of powers between the executive, legislative, and judicial branches, the reality is often more nuanced and the executive branch holds significant power.\\n* **Provincial Autonomy:**  It provides for provincial autonomy, granting significant powers to the four provinces (Punjab, Sindh, Balochistan, and Khyber Pakhtunkhwa) and the Islamabad Capital Territory.\\n\\nThe 1973 Constitution has been amended several times since its adoption, reflecting the evolving political landscape of Pakistan.  Despite these amendments, it remains the foundational legal document governing the country.\\n\" additional_kwargs={} response_metadata={'prompt_feedback': {'block_reason': 0, 'safety_ratings': []}, 'finish_reason': 'STOP', 'safety_ratings': []} id='run-09ec2733-9d3a-4d67-9393-bb4cf3b4eff6-0' usage_metadata={'input_tokens': 10, 'output_tokens': 294, 'total_tokens': 304, 'input_token_details': {'cache_read': 0}}\n"
          ]
        }
      ]
    },
    {
      "cell_type": "code",
      "source": [
        "# use messagestate for building of state\n",
        "from langgraph.graph import MessagesState\n",
        "from langchain_core.messages import AIMessage, HumanMessage, SystemMessage\n",
        "\n",
        "sys_msg = SystemMessage(content=\"You are a helpful Lawyer's assistant and helps in court cases\")\n",
        "\n",
        "# Node\n",
        "def assistant(state: MessagesState) -> MessagesState:\n",
        "   return {\"messages\": [llm.invoke([sys_msg] + state[\"messages\"])]}"
      ],
      "metadata": {
        "id": "R27stlAqiuJ8"
      },
      "execution_count": 12,
      "outputs": []
    },
    {
      "cell_type": "code",
      "source": [
        "from langgraph.graph import START, StateGraph, END\n",
        "from langgraph.graph.state import CompiledStateGraph\n",
        "from IPython.display import Image, display\n",
        "\n",
        "# Graph\n",
        "Lawyer: StateGraph = StateGraph(MessagesState)\n",
        "\n",
        "# Define nodes: nodes do the work\n",
        "Lawyer.add_node(\"assistant\", assistant)\n",
        "\n",
        "# Define edges: these determine how the control flow moves\n",
        "Lawyer.add_edge(START, \"assistant\")\n",
        "\n",
        "Lawyer.add_edge(\"assistant\", END)\n",
        "\n",
        "lawyer_graph: CompiledStateGraph = Lawyer.compile()\n",
        "\n",
        "# Show\n",
        "display(Image(lawyer_graph.get_graph(xray=True).draw_mermaid_png()))"
      ],
      "metadata": {
        "colab": {
          "base_uri": "https://localhost:8080/",
          "height": 251
        },
        "id": "ItX2kTr4jLQk",
        "outputId": "63c34465-28ab-4a71-cb83-0946c80480d6"
      },
      "execution_count": 13,
      "outputs": [
        {
          "output_type": "display_data",
          "data": {
            "image/png": "[encoded data removed]",
            "text/plain": [
              "<IPython.core.display.Image object>"
            ]
          },
          "metadata": {}
        }
      ]
    },
    {
      "cell_type": "code",
      "source": [
        "messages = [HumanMessage(content=\"What is marriage act in pakistan\")]\n",
        "\n",
        "messages = llm.invoke(messages)"
      ],
      "metadata": {
        "id": "BoTtDA_7jaTZ"
      },
      "execution_count": 14,
      "outputs": []
    },
    {
      "cell_type": "code",
      "source": [
        "print(messages)"
      ],
      "metadata": {
        "colab": {
          "base_uri": "https://localhost:8080/"
        },
        "id": "TLayHc__kKEw",
        "outputId": "379d145e-4168-49ee-f8b1-a55ee2be4cda"
      },
      "execution_count": 15,
      "outputs": [
        {
          "output_type": "stream",
          "name": "stdout",
          "text": [
            "content='The primary legislation governing marriage in Pakistan is the **Muslim Family Laws Ordinance, 1961**.  However, it\\'s crucial to understand that Pakistan is a diverse country with various religious groups, and different laws apply depending on religious affiliation.\\n\\n**For Muslims:** The Muslim Family Laws Ordinance, 1961, covers aspects like:\\n\\n* **Marriage registration:**  While not mandatory in all cases, registration is encouraged and provides legal recognition of the marriage.\\n* **Minimum age:**  Sets a minimum age for marriage, though enforcement varies.\\n* **Dower (Mahr):**  Specifies the wife\\'s right to receive a dower, a sum of money or property payable by the husband.\\n* **Divorce:**  Outlines procedures for divorce, including the right of the wife to seek khula (divorce initiated by the wife).\\n* **Custody of children:**  Addresses the custody and maintenance of children in case of divorce.\\n* **Polygamy:**  Allows polygamy under certain conditions.\\n\\n**For Non-Muslims:**  Different personal laws apply to non-Muslim communities (Christians, Hindus, Parsis, etc.). These laws are generally based on their respective religious customs and traditions and are often codified in separate legislation.  These laws also cover marriage, divorce, inheritance, and other family matters.  The specifics vary considerably between these communities.\\n\\n**Important Considerations:**\\n\\n* **Customary practices:**  While formal laws exist, customary practices often play a significant role in marriage, particularly in rural areas.  These customs can sometimes conflict with the codified laws.\\n* **Enforcement:**  Enforcement of marriage laws can be inconsistent across different regions and communities in Pakistan.\\n* **Ongoing reforms:**  There are ongoing debates and efforts to reform family laws in Pakistan, particularly regarding women\\'s rights and the protection of children.\\n\\nIn summary, there isn\\'t one single \"Marriage Act\" in Pakistan.  The legal framework is complex and depends heavily on religious affiliation.  The Muslim Family Laws Ordinance, 1961, is the most significant piece of legislation for Muslim marriages, but other laws govern marriages within other religious communities.  It\\'s advisable to consult with legal professionals for specific advice related to marriage in Pakistan.\\n' additional_kwargs={} response_metadata={'prompt_feedback': {'block_reason': 0, 'safety_ratings': []}, 'finish_reason': 'STOP', 'safety_ratings': []} id='run-4335a47a-1fd7-45a4-826c-7171688a5561-0' usage_metadata={'input_tokens': 7, 'output_tokens': 469, 'total_tokens': 476, 'input_token_details': {'cache_read': 0}}\n"
          ]
        }
      ]
    }
  ]
}