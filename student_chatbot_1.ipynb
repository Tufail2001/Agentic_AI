{
  "nbformat": 4,
  "nbformat_minor": 0,
  "metadata": {
    "colab": {
      "provenance": []
    },
    "kernelspec": {
      "name": "python3",
      "display_name": "Python 3"
    },
    "language_info": {
      "name": "python"
    }
  },
  "cells": [
    {
      "cell_type": "markdown",
      "source": [
        "chatbot for students help"
      ],
      "metadata": {
        "id": "-jp07cIhWnid"
      }
    },
    {
      "cell_type": "code",
      "execution_count": 2,
      "metadata": {
        "colab": {
          "base_uri": "https://localhost:8080/"
        },
        "id": "ddWQyesfWDZb",
        "outputId": "d0853bdd-0f49-4930-e0ec-0e71cecd8379"
      },
      "outputs": [
        {
          "output_type": "stream",
          "name": "stdout",
          "text": [
            "\u001b[?25l   \u001b[90m━━━━━━━━━━━━━━━━━━━━━━━━━━━━━━━━━━━━━━━━\u001b[0m \u001b[32m0.0/41.3 kB\u001b[0m \u001b[31m?\u001b[0m eta \u001b[36m-:--:--\u001b[0m\r\u001b[2K   \u001b[90m━━━━━━━━━━━━━━━━━━━━━━━━━━━━━━━━━━━━━━━━\u001b[0m \u001b[32m41.3/41.3 kB\u001b[0m \u001b[31m2.4 MB/s\u001b[0m eta \u001b[36m0:00:00\u001b[0m\n",
            "\u001b[?25h\u001b[?25l   \u001b[90m━━━━━━━━━━━━━━━━━━━━━━━━━━━━━━━━━━━━━━━━\u001b[0m \u001b[32m0.0/411.6 kB\u001b[0m \u001b[31m?\u001b[0m eta \u001b[36m-:--:--\u001b[0m\r\u001b[2K   \u001b[91m━━━━━━━━━━━━━━━━━━━━━━━━━━━━━━━━━━━━━━━\u001b[0m\u001b[91m╸\u001b[0m \u001b[32m409.6/411.6 kB\u001b[0m \u001b[31m17.3 MB/s\u001b[0m eta \u001b[36m0:00:01\u001b[0m\r\u001b[2K   \u001b[90m━━━━━━━━━━━━━━━━━━━━━━━━━━━━━━━━━━━━━━━━\u001b[0m \u001b[32m411.6/411.6 kB\u001b[0m \u001b[31m10.7 MB/s\u001b[0m eta \u001b[36m0:00:00\u001b[0m\n",
            "\u001b[?25h\u001b[?25l   \u001b[90m━━━━━━━━━━━━━━━━━━━━━━━━━━━━━━━━━━━━━━━━\u001b[0m \u001b[32m0.0/135.7 kB\u001b[0m \u001b[31m?\u001b[0m eta \u001b[36m-:--:--\u001b[0m\r\u001b[2K   \u001b[90m━━━━━━━━━━━━━━━━━━━━━━━━━━━━━━━━━━━━━━━━\u001b[0m \u001b[32m135.7/135.7 kB\u001b[0m \u001b[31m8.7 MB/s\u001b[0m eta \u001b[36m0:00:00\u001b[0m\n",
            "\u001b[?25h\u001b[?25l   \u001b[90m━━━━━━━━━━━━━━━━━━━━━━━━━━━━━━━━━━━━━━━━\u001b[0m \u001b[32m0.0/43.7 kB\u001b[0m \u001b[31m?\u001b[0m eta \u001b[36m-:--:--\u001b[0m\r\u001b[2K   \u001b[90m━━━━━━━━━━━━━━━━━━━━━━━━━━━━━━━━━━━━━━━━\u001b[0m \u001b[32m43.7/43.7 kB\u001b[0m \u001b[31m3.0 MB/s\u001b[0m eta \u001b[36m0:00:00\u001b[0m\n",
            "\u001b[?25h"
          ]
        }
      ],
      "source": [
        "# install important liberaries\n",
        "%pip install --quiet -U langchain_google_genai langchain_core langgraph"
      ]
    },
    {
      "cell_type": "code",
      "source": [
        "# save api key\n",
        "from google.colab import userdata\n",
        "GEMINI_API_KEY = userdata.get('GEMINI_API_KEY')"
      ],
      "metadata": {
        "id": "tXkNP3n8WbaQ"
      },
      "execution_count": 3,
      "outputs": []
    },
    {
      "cell_type": "code",
      "source": [
        "# import chatmodel\n",
        "from langchain_google_genai import ChatGoogleGenerativeAI\n",
        "\n",
        "llm = ChatGoogleGenerativeAI(\n",
        "    model = \"gemini-1.5-flash\",\n",
        "    api_key=GEMINI_API_KEY,\n",
        "    temperature=0,\n",
        ")"
      ],
      "metadata": {
        "id": "O_3inW0QXRLK"
      },
      "execution_count": 4,
      "outputs": []
    },
    {
      "cell_type": "code",
      "source": [
        "# check our model is set well\n",
        "response=llm.invoke('What is capital of Pakistan')"
      ],
      "metadata": {
        "id": "xiotUbL3YCwA"
      },
      "execution_count": 7,
      "outputs": []
    },
    {
      "cell_type": "code",
      "source": [
        "response.content"
      ],
      "metadata": {
        "colab": {
          "base_uri": "https://localhost:8080/",
          "height": 36
        },
        "id": "qvR3ufXZYLiV",
        "outputId": "af6a0497-2171-49bd-d390-1de150cf4fb4"
      },
      "execution_count": 6,
      "outputs": [
        {
          "output_type": "execute_result",
          "data": {
            "text/plain": [
              "'The capital of Pakistan is **Islamabad**.\\n'"
            ],
            "application/vnd.google.colaboratory.intrinsic+json": {
              "type": "string"
            }
          },
          "metadata": {},
          "execution_count": 6
        }
      ]
    },
    {
      "cell_type": "code",
      "source": [
        "# use messagestate for building of state\n",
        "from langgraph.graph import MessagesState\n",
        "from langchain_core.messages import AIMessage, HumanMessage, SystemMessage\n",
        "\n",
        "sys_msg = SystemMessage(content=\"You are a helpful assistant and help student to make their study plan.\")\n",
        "\n",
        "# Node\n",
        "def assistant(state: MessagesState) -> MessagesState:\n",
        "   return {\"messages\": [llm.invoke([sys_msg] + state[\"messages\"])]}\n"
      ],
      "metadata": {
        "id": "MgbScoyQYPUK"
      },
      "execution_count": 8,
      "outputs": []
    },
    {
      "cell_type": "code",
      "source": [
        "\n",
        "from langgraph.graph import START, StateGraph, END\n",
        "from langgraph.graph.state import CompiledStateGraph\n",
        "from IPython.display import Image, display\n",
        "# Graph\n",
        "builder: StateGraph = StateGraph(MessagesState)\n",
        "\n",
        "\n",
        "\n",
        "# Define nodes: nodes do the work\n",
        "builder.add_node(\"assistant\", assistant)\n",
        "\n",
        "# Define edges: these determine how the control flow moves\n",
        "builder.add_edge(START, \"assistant\")\n",
        "# Define edges: these determine how the control flow moves\n",
        "builder.add_edge(\"assistant\", END)\n",
        "\n",
        "graph: CompiledStateGraph = builder.compile()\n",
        "\n",
        "# Show\n",
        "display(Image(graph.get_graph(xray=True).draw_mermaid_png()))"
      ],
      "metadata": {
        "colab": {
          "base_uri": "https://localhost:8080/",
          "height": 251
        },
        "id": "-_4BDu8sZM3y",
        "outputId": "0a539267-2e52-4ae9-ace7-0b8e3b0e278e"
      },
      "execution_count": 11,
      "outputs": [
        {
          "output_type": "display_data",
          "data": {
            "image/png": "[encoded data removed]",
            "text/plain": [
              "<IPython.core.display.Image object>"
            ]
          },
          "metadata": {}
        }
      ]
    },
    {
      "source": [
        "messages = [HumanMessage(content=\"I am a grade 10 student, make a study plan for me\")]\n",
        "\n",
        "messages = llm.invoke(messages)"
      ],
      "cell_type": "code",
      "metadata": {
        "id": "eSWG-AfBfJ4-"
      },
      "execution_count": 16,
      "outputs": []
    },
    {
      "cell_type": "code",
      "source": [
        "print(messages)"
      ],
      "metadata": {
        "colab": {
          "base_uri": "https://localhost:8080/"
        },
        "id": "uOpA8KeIfwmp",
        "outputId": "2b66cd77-97cc-4972-ace5-3f3d215fd865"
      },
      "execution_count": 18,
      "outputs": [
        {
          "output_type": "stream",
          "name": "stdout",
          "text": [
            "content=\"This study plan is designed to be flexible and adaptable to your specific needs and classes.  Remember to adjust it based on your individual workload and exam schedule.\\n\\n**I. Weekly Overview:**\\n\\n* **Sunday:** Review the week's notes and assignments. Plan for the upcoming week. Identify challenging topics.\\n* **Monday - Friday:**  Follow the daily schedule below.  Allocate more time to subjects you find more difficult or have more assignments in.\\n* **Saturday:**  Review the week's material. Catch up on any unfinished work.  Allow time for relaxation and extracurricular activities.\\n\\n\\n**II. Daily Schedule (Example - Adjust to your needs):**\\n\\n**(This is a sample; adjust the times and subjects to fit your school schedule and personal preferences.)**\\n\\n| Time          | Activity                               | Subject Focus                               | Notes                                      |\\n|---------------|-------------------------------------------|---------------------------------------------|---------------------------------------------|\\n| 7:00 - 7:30 AM | Wake up, get ready                     |                                             |                                             |\\n| 7:30 - 8:00 AM | Breakfast, quick review of schedule     |                                             |                                             |\\n| 8:00 - 9:30 AM | Study Session 1                         | Math/Science (choose your hardest subject) | Focus, minimize distractions                |\\n| 9:30 - 10:00 AM| Break (10 min)                          |                                             | Get up, stretch, grab a snack/drink         |\\n| 10:00 - 11:30 AM| Study Session 2                         | English/History (choose a different subject)| Use different study techniques (flashcards, etc.) |\\n| 11:30 AM - 12:00 PM| Lunch                                  |                                             |                                             |\\n| 12:00 - 1:30 PM | Study Session 3                         |  (Choose a subject)                         |  Review notes, complete assignments          |\\n| 1:30 - 1:45 PM  | Break (15 min)                          |                                             |                                             |\\n| 1:45 - 3:15 PM | Study Session 4                         | (Choose a subject)                         | Work on projects or challenging assignments |\\n| 3:15 - 3:30 PM | Review and Plan for Tomorrow             | All subjects                               | Prioritize tasks for the next day           |\\n| 3:30 PM Onward| Extracurriculars, relaxation, hobbies   |                                             |  Important for mental and physical health! |\\n\\n\\n**III. Study Techniques:**\\n\\n* **Active Recall:** Test yourself frequently without looking at your notes.\\n* **Spaced Repetition:** Review material at increasing intervals to improve long-term retention.\\n* **Interleaving:** Switch between different subjects to improve focus and memory.\\n* **Elaboration:** Connect new information to what you already know.\\n* **Flashcards:** Create flashcards for key terms and concepts.\\n* **Mind Maps:** Visualize concepts and their relationships.\\n* **Practice Problems:** Solve lots of practice problems, especially for math and science.\\n* **Teach Someone Else:** Explaining concepts to others helps solidify your understanding.\\n\\n\\n**IV.  Important Considerations:**\\n\\n* **Breaks:**  Regular short breaks are crucial for maintaining focus and preventing burnout.  The Pomodoro Technique (25 minutes of study followed by a 5-minute break) is a popular method.\\n* **Sleep:** Aim for 8-10 hours of sleep per night.  Adequate sleep is essential for learning and memory consolidation.\\n* **Nutrition and Hydration:** Eat healthy foods and drink plenty of water throughout the day.\\n* **Organization:** Keep your notes, assignments, and study materials organized.\\n* **Time Management:** Learn to prioritize tasks and manage your time effectively.\\n* **Seek Help:** Don't hesitate to ask teachers, tutors, or classmates for help if you're struggling with a particular subject.\\n\\n\\n**V.  Adapting the Plan:**\\n\\nThis is a template.  You need to personalize it.  Track your progress and adjust the schedule as needed.  If you find yourself consistently falling behind in a particular subject, allocate more time to it.  If a certain study technique isn't working for you, try a different one.  The key is to find a system that works best for *you*. Remember to build in flexibility and reward yourself for your hard work!\\n\" additional_kwargs={} response_metadata={'prompt_feedback': {'block_reason': 0, 'safety_ratings': []}, 'finish_reason': 'STOP', 'safety_ratings': []} id='run-b1d4d406-c945-4367-a764-9fc61090de4d-0' usage_metadata={'input_tokens': 16, 'output_tokens': 960, 'total_tokens': 976, 'input_token_details': {'cache_read': 0}}\n"
          ]
        }
      ]
    }
  ]
}