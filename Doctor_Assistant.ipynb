{
  "nbformat": 4,
  "nbformat_minor": 0,
  "metadata": {
    "colab": {
      "provenance": []
    },
    "kernelspec": {
      "name": "python3",
      "display_name": "Python 3"
    },
    "language_info": {
      "name": "python"
    }
  },
  "cells": [
    {
      "cell_type": "markdown",
      "source": [
        "Doctor Chatbot **Assistant**\n"
      ],
      "metadata": {
        "id": "I7l2k6QRhvnG"
      }
    },
    {
      "cell_type": "code",
      "source": [
        "# install important liberaries\n",
        "%pip install --quiet -U langchain_google_genai langchain_core langgraph"
      ],
      "metadata": {
        "colab": {
          "base_uri": "https://localhost:8080/"
        },
        "id": "COEnNGGLh101",
        "outputId": "6108cff0-a301-498f-bcba-fc8a0341f30f"
      },
      "execution_count": 1,
      "outputs": [
        {
          "output_type": "stream",
          "name": "stdout",
          "text": [
            "\u001b[?25l   \u001b[90m━━━━━━━━━━━━━━━━━━━━━━━━━━━━━━━━━━━━━━━━\u001b[0m \u001b[32m0.0/41.3 kB\u001b[0m \u001b[31m?\u001b[0m eta \u001b[36m-:--:--\u001b[0m\r\u001b[2K   \u001b[90m━━━━━━━━━━━━━━━━━━━━━━━━━━━━━━━━━━━━━━━━\u001b[0m \u001b[32m41.3/41.3 kB\u001b[0m \u001b[31m1.3 MB/s\u001b[0m eta \u001b[36m0:00:00\u001b[0m\n",
            "\u001b[?25h\u001b[?25l   \u001b[90m━━━━━━━━━━━━━━━━━━━━━━━━━━━━━━━━━━━━━━━━\u001b[0m \u001b[32m0.0/411.6 kB\u001b[0m \u001b[31m?\u001b[0m eta \u001b[36m-:--:--\u001b[0m\r\u001b[2K   \u001b[91m━━━━━━━━━━━━━━━━━━━━━━━━━━━━━━━━━━━━━━━\u001b[0m\u001b[91m╸\u001b[0m \u001b[32m409.6/411.6 kB\u001b[0m \u001b[31m22.8 MB/s\u001b[0m eta \u001b[36m0:00:01\u001b[0m\r\u001b[2K   \u001b[90m━━━━━━━━━━━━━━━━━━━━━━━━━━━━━━━━━━━━━━━━\u001b[0m \u001b[32m411.6/411.6 kB\u001b[0m \u001b[31m9.6 MB/s\u001b[0m eta \u001b[36m0:00:00\u001b[0m\n",
            "\u001b[2K   \u001b[90m━━━━━━━━━━━━━━━━━━━━━━━━━━━━━━━━━━━━━━━━\u001b[0m \u001b[32m135.7/135.7 kB\u001b[0m \u001b[31m10.1 MB/s\u001b[0m eta \u001b[36m0:00:00\u001b[0m\n",
            "\u001b[2K   \u001b[90m━━━━━━━━━━━━━━━━━━━━━━━━━━━━━━━━━━━━━━━━\u001b[0m \u001b[32m43.7/43.7 kB\u001b[0m \u001b[31m157.7 kB/s\u001b[0m eta \u001b[36m0:00:00\u001b[0m\n",
            "\u001b[?25h"
          ]
        }
      ]
    },
    {
      "cell_type": "code",
      "source": [
        "# set gemini api key\n",
        "from google.colab import userdata\n",
        "GEMINI_API_KEY = userdata.get('GEMINI_API_KEY')"
      ],
      "metadata": {
        "id": "gO62XykYh4uX"
      },
      "execution_count": 3,
      "outputs": []
    },
    {
      "cell_type": "code",
      "source": [
        "# import chatmodel\n",
        "from langchain_google_genai import ChatGoogleGenerativeAI\n",
        "\n",
        "llm = ChatGoogleGenerativeAI(\n",
        "    model = \"gemini-1.5-flash\",\n",
        "    api_key=GEMINI_API_KEY,\n",
        "    temperature=0,\n",
        ")"
      ],
      "metadata": {
        "id": "5JtSEhQyiKrR"
      },
      "execution_count": 4,
      "outputs": []
    },
    {
      "cell_type": "code",
      "source": [
        "# test our model\n",
        "response=llm.invoke('What is antibody')\n",
        "print(response)"
      ],
      "metadata": {
        "colab": {
          "base_uri": "https://localhost:8080/"
        },
        "id": "A5nq2d7wicX6",
        "outputId": "1d804768-7245-4995-fa30-0385a144d078"
      },
      "execution_count": 5,
      "outputs": [
        {
          "output_type": "stream",
          "name": "stdout",
          "text": [
            "content=\"An antibody, also known as an immunoglobulin (Ig), is a large, Y-shaped protein produced by plasma cells (which are differentiated B cells) that is used by the immune system to identify and neutralize foreign objects like bacteria and viruses.  Think of them as the body's targeted missiles against invaders.\\n\\nHere's a breakdown of their key features:\\n\\n* **Specificity:** Each antibody is specifically designed to bind to a particular antigen (a substance that triggers an immune response).  This is like a lock and key mechanism – only the correct antibody will fit and bind to a specific antigen.  The region of the antibody that binds to the antigen is called the antigen-binding site.\\n\\n* **Neutralization:**  By binding to antigens, antibodies can prevent them from infecting cells or causing damage.  This is like disabling the enemy before it can attack.\\n\\n* **Opsonization:** Antibodies can coat antigens, making them more easily recognized and engulfed by phagocytes (cells that eat and destroy pathogens). This is like marking the enemy for destruction.\\n\\n* **Complement Activation:** Antibodies can trigger the complement system, a cascade of proteins that leads to the destruction of pathogens. This is like calling in reinforcements to help eliminate the enemy.\\n\\n* **Types:** There are five main classes of antibodies (IgA, IgD, IgE, IgG, and IgM), each with different functions and locations in the body.  For example, IgG is the most abundant antibody in the blood, while IgA is found in mucosal secretions like saliva and tears.\\n\\nIn short, antibodies are crucial components of the adaptive immune system, providing targeted and highly specific defense against a wide range of pathogens and foreign substances.\\n\" additional_kwargs={} response_metadata={'prompt_feedback': {'block_reason': 0, 'safety_ratings': []}, 'finish_reason': 'STOP', 'safety_ratings': []} id='run-c8cd0825-4ead-403c-a9ba-355db36fe02e-0' usage_metadata={'input_tokens': 4, 'output_tokens': 344, 'total_tokens': 348, 'input_token_details': {'cache_read': 0}}\n"
          ]
        }
      ]
    },
    {
      "cell_type": "code",
      "source": [
        "# use messagestate for building of state\n",
        "from langgraph.graph import MessagesState\n",
        "from langchain_core.messages import AIMessage, HumanMessage, SystemMessage\n",
        "\n",
        "sys_msg = SystemMessage(content=\"You are a helpful doctor  assistant and helps in search and diagnoses.\")\n",
        "\n",
        "# Node\n",
        "def assistant(state: MessagesState) -> MessagesState:\n",
        "   return {\"messages\": [llm.invoke([sys_msg] + state[\"messages\"])]}"
      ],
      "metadata": {
        "id": "R27stlAqiuJ8"
      },
      "execution_count": 11,
      "outputs": []
    },
    {
      "cell_type": "code",
      "source": [
        "from langgraph.graph import START, StateGraph, END\n",
        "from langgraph.graph.state import CompiledStateGraph\n",
        "from IPython.display import Image, display\n",
        "# Graph\n",
        "doctor_asstant: StateGraph = StateGraph(MessagesState)\n",
        "\n",
        "\n",
        "\n",
        "# Define nodes: nodes do the work\n",
        "doctor_asstant.add_node(\"assistant\", assistant)\n",
        "\n",
        "# Define edges: these determine how the control flow moves\n",
        "doctor_asstant.add_edge(START, \"assistant\")\n",
        "\n",
        "doctor_asstant.add_edge(\"assistant\", END)\n",
        "\n",
        "graph: CompiledStateGraph = doctor_asstant.compile()\n",
        "\n",
        "# Show\n",
        "display(Image(graph.get_graph(xray=True).draw_mermaid_png()))"
      ],
      "metadata": {
        "colab": {
          "base_uri": "https://localhost:8080/",
          "height": 251
        },
        "id": "ItX2kTr4jLQk",
        "outputId": "04287d8e-dfb2-4186-ca50-28811687cfab"
      },
      "execution_count": 12,
      "outputs": [
        {
          "output_type": "display_data",
          "data": {
            "image/png": "[encoded data removed]",
            "text/plain": [
              "<IPython.core.display.Image object>"
            ]
          },
          "metadata": {}
        }
      ]
    },
    {
      "cell_type": "code",
      "source": [
        "messages = [HumanMessage(content=\"A kid 10 years old suffering from sore throat and cough please suggest a treatment with antibiotic\")]\n",
        "\n",
        "messages = llm.invoke(messages)"
      ],
      "metadata": {
        "id": "BoTtDA_7jaTZ"
      },
      "execution_count": 15,
      "outputs": []
    },
    {
      "cell_type": "code",
      "source": [
        "print(messages)"
      ],
      "metadata": {
        "colab": {
          "base_uri": "https://localhost:8080/"
        },
        "id": "TLayHc__kKEw",
        "outputId": "1262ca4b-b2bb-43ef-8fb7-d8b05a17858e"
      },
      "execution_count": 17,
      "outputs": [
        {
          "output_type": "stream",
          "name": "stdout",
          "text": [
            "content=\"I cannot suggest a treatment with antibiotics for a 10-year-old with a sore throat and cough.  **I am an AI and cannot provide medical advice.**  Antibiotics are only effective against bacterial infections, and many sore throats and coughs are caused by viruses.  Using antibiotics unnecessarily contributes to antibiotic resistance, a serious public health problem.\\n\\n**It is crucial to take the child to a doctor or other qualified healthcare professional for a proper diagnosis.** They will be able to determine the cause of the illness (viral or bacterial) and prescribe the appropriate treatment, which may or may not include antibiotics.  They can also assess the severity of the symptoms and rule out other potential conditions.\\n\\nIn the meantime, you can provide supportive care such as:\\n\\n* **Rest:**  Plenty of sleep is essential for recovery.\\n* **Fluids:** Encourage the child to drink plenty of water, clear broths, or electrolyte solutions to stay hydrated.\\n* **Humidifier:** A cool-mist humidifier can help soothe a sore throat and loosen congestion.\\n* **Pain relief:**  Over-the-counter pain relievers like acetaminophen (Tylenol) or ibuprofen (Advil, Motrin) can help reduce fever and pain, but always follow the dosage instructions carefully based on the child's weight and age.  **Never give aspirin to a child.**\\n* **Honey (for children over 1 year old):** A small amount of honey can soothe a cough.\\n\\n**Do not attempt to treat this condition with antibiotics without a doctor's prescription.**  Improper use of antibiotics can have serious consequences.  Seek professional medical advice immediately.\\n\" additional_kwargs={} response_metadata={'prompt_feedback': {'block_reason': 0, 'safety_ratings': []}, 'finish_reason': 'STOP', 'safety_ratings': []} id='run-d4492912-cbd5-4bb1-bef3-3c050ad17855-0' usage_metadata={'input_tokens': 20, 'output_tokens': 341, 'total_tokens': 361, 'input_token_details': {'cache_read': 0}}\n"
          ]
        }
      ]
    }
  ]
}